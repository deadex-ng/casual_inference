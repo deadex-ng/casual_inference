{
 "cells": [
  {
   "cell_type": "code",
   "execution_count": 1,
   "id": "7820aa92",
   "metadata": {},
   "outputs": [],
   "source": [
    "import sys\n",
    "import logging\n",
    "import warnings\n",
    "warnings.filterwarnings(\"ignore\")\n",
    "\n",
    "import pandas as pd\n",
    "import numpy as np\n",
    "\n",
    "# data visualization\n",
    "import matplotlib.pyplot as plt\n",
    "import seaborn as sns # advanced vizs\n",
    "import plotly.express as px\n",
    "import plotly.io as pio\n",
    "import plotly.graph_objs as go\n",
    "import plotly.tools as tls\n",
    "import plotly.offline as py\n",
    "\n",
    "from sklearn.model_selection import train_test_split\n",
    "from sklearn.ensemble import RandomForestClassifier\n",
    "from sklearn.preprocessing import LabelEncoder\n",
    "from sklearn.metrics import accuracy_score\n",
    "from sklearn.feature_selection import SelectFromModel\n",
    "from sklearn.preprocessing import StandardScaler\n",
    "\n",
    "pio.renderers.default = \"svg\"\n",
    "%matplotlib inline"
   ]
  },
  {
   "cell_type": "code",
   "execution_count": 2,
   "id": "368355a9",
   "metadata": {},
   "outputs": [],
   "source": [
    "logging.info('Loading data sets')\n",
    "\n",
    "df = pd.read_csv(r\"..\\data\\data.csv\")\n",
    "\n",
    "logging.info('Loading data sets done.')"
   ]
  },
  {
   "cell_type": "code",
   "execution_count": 4,
   "id": "7c214d49",
   "metadata": {},
   "outputs": [],
   "source": [
    "df.drop('Unnamed: 32',axis=1,inplace=True)"
   ]
  },
  {
   "cell_type": "code",
   "execution_count": 5,
   "id": "2c8e8533",
   "metadata": {},
   "outputs": [],
   "source": [
    "feat_lables =  ['radius_mean','texture_mean','perimeter_mean','area_mean','smoothness_mean','compactness_mean',\n",
    "                'concavity_mean','concave points_mean','symmetry_mean','fractal_dimension_mean','radius_se',\n",
    "                'texture_se','perimeter_se','area_se','smoothness_se','compactness_se','concavity_se','concave points_se',\n",
    "                'symmetry_se','fractal_dimension_se','radius_worst','texture_worst','perimeter_worst','area_worst',\n",
    "                'smoothness_worst','compactness_worst','concavity_worst','concave points_worst','symmetry_worst',\n",
    "                'fractal_dimension_worst']\n",
    "le = LabelEncoder()\n",
    "df['diagnosis'] = le.fit_transform(df['diagnosis'])\n",
    "X1 = df.copy()\n",
    "X1.drop('diagnosis',axis=1,inplace=True)\n",
    "scaler = StandardScaler()\n",
    "X = scaler.fit_transform(X1)\n",
    "y= df.diagnosis\n",
    "X_train, X_test, y_train, y_test = train_test_split(X, y)"
   ]
  },
  {
   "cell_type": "code",
   "execution_count": 6,
   "id": "ec6b5840",
   "metadata": {},
   "outputs": [
    {
     "data": {
      "text/plain": [
       "RandomForestClassifier(n_estimators=10000, n_jobs=-1, random_state=0)"
      ]
     },
     "execution_count": 6,
     "metadata": {},
     "output_type": "execute_result"
    }
   ],
   "source": [
    "clf = RandomForestClassifier(n_estimators=10000,random_state=0,n_jobs=-1)\n",
    "clf.fit(X_train,y_train)\n",
    "\n",
    "\n",
    "#plot_feature_importance(clf.feature_importances_,X_train.columns,'RANDOM FOREST')"
   ]
  },
  {
   "cell_type": "code",
   "execution_count": 7,
   "id": "ecd99d96",
   "metadata": {},
   "outputs": [
    {
     "name": "stdout",
     "output_type": "stream",
     "text": [
      "Accuracy: 0.951048951048951\n"
     ]
    }
   ],
   "source": [
    "y_pred = clf.predict(X_test)\n",
    "print ('Accuracy:',accuracy_score(y_test, y_pred))\n"
   ]
  },
  {
   "cell_type": "code",
   "execution_count": 8,
   "id": "d4db97c0",
   "metadata": {},
   "outputs": [],
   "source": [
    "features = X1.drop(['id'],axis=1).columns.values"
   ]
  },
  {
   "cell_type": "code",
   "execution_count": 9,
   "id": "46069f13",
   "metadata": {},
   "outputs": [
    {
     "data": {
      "image/svg+xml": [
       "<svg class=\"main-svg\" xmlns=\"http://www.w3.org/2000/svg\" xmlns:xlink=\"http://www.w3.org/1999/xlink\" width=\"700\" height=\"500\" style=\"\" viewBox=\"0 0 700 500\"><rect x=\"0\" y=\"0\" width=\"700\" height=\"500\" style=\"fill: rgb(255, 255, 255); fill-opacity: 1;\"/><defs id=\"defs-4abed4\"><g class=\"clips\"><clipPath id=\"clip4abed4xyplot\" class=\"plotclip\"><rect width=\"520\" height=\"233\"/></clipPath><clipPath class=\"axesclip\" id=\"clip4abed4x\"><rect x=\"80\" y=\"0\" width=\"520\" height=\"500\"/></clipPath><clipPath class=\"axesclip\" id=\"clip4abed4y\"><rect x=\"0\" y=\"100\" width=\"700\" height=\"233\"/></clipPath><clipPath class=\"axesclip\" id=\"clip4abed4xy\"><rect x=\"80\" y=\"100\" width=\"520\" height=\"233\"/></clipPath></g><g class=\"gradients\"><linearGradient x1=\"0\" x2=\"0\" y1=\"1\" y2=\"0\" id=\"g4abed4-cb123bd8\"><stop offset=\"0%\" stop-color=\"rgb(12, 51, 131)\" stop-opacity=\"1\"/><stop offset=\"25%\" stop-color=\"rgb(10, 136, 186)\" stop-opacity=\"1\"/><stop offset=\"50%\" stop-color=\"rgb(242, 211, 56)\" stop-opacity=\"1\"/><stop offset=\"75%\" stop-color=\"rgb(242, 143, 56)\" stop-opacity=\"1\"/><stop offset=\"100%\" stop-color=\"rgb(217, 30, 30)\" stop-opacity=\"1\"/></linearGradient></g><g class=\"patterns\"/></defs><g class=\"bglayer\"><rect class=\"bg\" x=\"80\" y=\"100\" width=\"520\" height=\"233\" style=\"fill: rgb(229, 236, 246); fill-opacity: 1; stroke-width: 0;\"/></g><g class=\"layer-below\"><g class=\"imagelayer\"/><g class=\"shapelayer\"/></g><g class=\"cartesianlayer\"><g class=\"subplot xy\"><g class=\"layer-subplot\"><g class=\"shapelayer\"/><g class=\"imagelayer\"/></g><g class=\"gridlayer\"><g class=\"x\"/><g class=\"y\"/></g><g class=\"zerolinelayer\"/><path class=\"xlines-below\"/><path class=\"ylines-below\"/><g class=\"overlines-below\"/><g class=\"xaxislayer-below\"/><g class=\"yaxislayer-below\"/><g class=\"overaxes-below\"/><g class=\"plot\" transform=\"translate(80,100)\" clip-path=\"url(#clip4abed4xyplot)\"><g class=\"scatterlayer mlayer\"><g class=\"trace scatter trace123bd8\" style=\"stroke-miterlimit: 2; opacity: 1;\"><g class=\"fills\"/><g class=\"errorbars\"/><g class=\"lines\"/><g class=\"points\"><path class=\"point\" transform=\"translate(34.13,210.29)\" d=\"M6.5,0A6.5,6.5 0 1,1 0,-6.5A6.5,6.5 0 0,1 6.5,0Z\" style=\"opacity: 1; stroke-width: 0px; fill: rgb(12, 56, 134); fill-opacity: 1;\"/><path class=\"point\" transform=\"translate(49.7,149.59)\" d=\"M6.5,0A6.5,6.5 0 1,1 0,-6.5A6.5,6.5 0 0,1 6.5,0Z\" style=\"opacity: 1; stroke-width: 0px; fill: rgb(83, 160, 145); fill-opacity: 1;\"/><path class=\"point\" transform=\"translate(65.28,199.51)\" d=\"M6.5,0A6.5,6.5 0 1,1 0,-6.5A6.5,6.5 0 0,1 6.5,0Z\" style=\"opacity: 1; stroke-width: 0px; fill: rgb(11, 75, 147); fill-opacity: 1;\"/><path class=\"point\" transform=\"translate(80.86,153.61)\" d=\"M6.5,0A6.5,6.5 0 1,1 0,-6.5A6.5,6.5 0 0,1 6.5,0Z\" style=\"opacity: 1; stroke-width: 0px; fill: rgb(64, 153, 156); fill-opacity: 1;\"/><path class=\"point\" transform=\"translate(96.44,147.88)\" d=\"M6.5,0A6.5,6.5 0 1,1 0,-6.5A6.5,6.5 0 0,1 6.5,0Z\" style=\"opacity: 1; stroke-width: 0px; fill: rgb(91, 162, 140); fill-opacity: 1;\"/><path class=\"point\" transform=\"translate(112.01,207.31)\" d=\"M6.5,0A6.5,6.5 0 1,1 0,-6.5A6.5,6.5 0 0,1 6.5,0Z\" style=\"opacity: 1; stroke-width: 0px; fill: rgb(12, 61, 138); fill-opacity: 1;\"/><path class=\"point\" transform=\"translate(127.59,199.81)\" d=\"M6.5,0A6.5,6.5 0 1,1 0,-6.5A6.5,6.5 0 0,1 6.5,0Z\" style=\"opacity: 1; stroke-width: 0px; fill: rgb(11, 75, 146); fill-opacity: 1;\"/><path class=\"point\" transform=\"translate(143.17,154.22)\" d=\"M6.5,0A6.5,6.5 0 1,1 0,-6.5A6.5,6.5 0 0,1 6.5,0Z\" style=\"opacity: 1; stroke-width: 0px; fill: rgb(61, 153, 157); fill-opacity: 1;\"/><path class=\"point\" transform=\"translate(158.75,86.71)\" d=\"M6.5,0A6.5,6.5 0 1,1 0,-6.5A6.5,6.5 0 0,1 6.5,0Z\" style=\"opacity: 1; stroke-width: 0px; fill: rgb(242, 169, 56); fill-opacity: 1;\"/><path class=\"point\" transform=\"translate(174.32,210.86)\" d=\"M6.5,0A6.5,6.5 0 1,1 0,-6.5A6.5,6.5 0 0,1 6.5,0Z\" style=\"opacity: 1; stroke-width: 0px; fill: rgb(12, 55, 134); fill-opacity: 1;\"/><path class=\"point\" transform=\"translate(189.9,212.21)\" d=\"M6.5,0A6.5,6.5 0 1,1 0,-6.5A6.5,6.5 0 0,1 6.5,0Z\" style=\"opacity: 1; stroke-width: 0px; fill: rgb(12, 53, 132); fill-opacity: 1;\"/><path class=\"point\" transform=\"translate(205.48,194.96)\" d=\"M6.5,0A6.5,6.5 0 1,1 0,-6.5A6.5,6.5 0 0,1 6.5,0Z\" style=\"opacity: 1; stroke-width: 0px; fill: rgb(11, 83, 152); fill-opacity: 1;\"/><path class=\"point\" transform=\"translate(221.06,212.22)\" d=\"M6.5,0A6.5,6.5 0 1,1 0,-6.5A6.5,6.5 0 0,1 6.5,0Z\" style=\"opacity: 1; stroke-width: 0px; fill: rgb(12, 53, 132); fill-opacity: 1;\"/><path class=\"point\" transform=\"translate(236.63,197.7)\" d=\"M6.5,0A6.5,6.5 0 1,1 0,-6.5A6.5,6.5 0 0,1 6.5,0Z\" style=\"opacity: 1; stroke-width: 0px; fill: rgb(11, 78, 149); fill-opacity: 1;\"/><path class=\"point\" transform=\"translate(252.21,155.74)\" d=\"M6.5,0A6.5,6.5 0 1,1 0,-6.5A6.5,6.5 0 0,1 6.5,0Z\" style=\"opacity: 1; stroke-width: 0px; fill: rgb(54, 150, 161); fill-opacity: 1;\"/><path class=\"point\" transform=\"translate(267.79,211)\" d=\"M6.5,0A6.5,6.5 0 1,1 0,-6.5A6.5,6.5 0 0,1 6.5,0Z\" style=\"opacity: 1; stroke-width: 0px; fill: rgb(12, 55, 134); fill-opacity: 1;\"/><path class=\"point\" transform=\"translate(283.37,211.47)\" d=\"M6.5,0A6.5,6.5 0 1,1 0,-6.5A6.5,6.5 0 0,1 6.5,0Z\" style=\"opacity: 1; stroke-width: 0px; fill: rgb(12, 54, 133); fill-opacity: 1;\"/><path class=\"point\" transform=\"translate(298.94,207.38)\" d=\"M6.5,0A6.5,6.5 0 1,1 0,-6.5A6.5,6.5 0 0,1 6.5,0Z\" style=\"opacity: 1; stroke-width: 0px; fill: rgb(12, 61, 138); fill-opacity: 1;\"/><path class=\"point\" transform=\"translate(314.52,211.53)\" d=\"M6.5,0A6.5,6.5 0 1,1 0,-6.5A6.5,6.5 0 0,1 6.5,0Z\" style=\"opacity: 1; stroke-width: 0px; fill: rgb(12, 54, 133); fill-opacity: 1;\"/><path class=\"point\" transform=\"translate(330.1,213.23)\" d=\"M6.5,0A6.5,6.5 0 1,1 0,-6.5A6.5,6.5 0 0,1 6.5,0Z\" style=\"opacity: 1; stroke-width: 0px; fill: rgb(12, 51, 131); fill-opacity: 1;\"/><path class=\"point\" transform=\"translate(345.68,211.16)\" d=\"M6.5,0A6.5,6.5 0 1,1 0,-6.5A6.5,6.5 0 0,1 6.5,0Z\" style=\"opacity: 1; stroke-width: 0px; fill: rgb(12, 55, 133); fill-opacity: 1;\"/><path class=\"point\" transform=\"translate(361.25,46.43)\" d=\"M6.5,0A6.5,6.5 0 1,1 0,-6.5A6.5,6.5 0 0,1 6.5,0Z\" style=\"opacity: 1; stroke-width: 0px; fill: rgb(231, 92, 44); fill-opacity: 1;\"/><path class=\"point\" transform=\"translate(376.83,194.69)\" d=\"M6.5,0A6.5,6.5 0 1,1 0,-6.5A6.5,6.5 0 0,1 6.5,0Z\" style=\"opacity: 1; stroke-width: 0px; fill: rgb(11, 84, 152); fill-opacity: 1;\"/><path class=\"point\" transform=\"translate(392.41,19.78)\" d=\"M6.5,0A6.5,6.5 0 1,1 0,-6.5A6.5,6.5 0 0,1 6.5,0Z\" style=\"opacity: 1; stroke-width: 0px; fill: rgb(217, 30, 30); fill-opacity: 1;\"/><path class=\"point\" transform=\"translate(407.99,67.81)\" d=\"M6.5,0A6.5,6.5 0 1,1 0,-6.5A6.5,6.5 0 0,1 6.5,0Z\" style=\"opacity: 1; stroke-width: 0px; fill: rgb(242, 142, 56); fill-opacity: 1;\"/><path class=\"point\" transform=\"translate(423.56,195.06)\" d=\"M6.5,0A6.5,6.5 0 1,1 0,-6.5A6.5,6.5 0 0,1 6.5,0Z\" style=\"opacity: 1; stroke-width: 0px; fill: rgb(11, 83, 152); fill-opacity: 1;\"/><path class=\"point\" transform=\"translate(439.14,194.51)\" d=\"M6.5,0A6.5,6.5 0 1,1 0,-6.5A6.5,6.5 0 0,1 6.5,0Z\" style=\"opacity: 1; stroke-width: 0px; fill: rgb(11, 84, 152); fill-opacity: 1;\"/><path class=\"point\" transform=\"translate(454.72,168.93)\" d=\"M6.5,0A6.5,6.5 0 1,1 0,-6.5A6.5,6.5 0 0,1 6.5,0Z\" style=\"opacity: 1; stroke-width: 0px; fill: rgb(10, 129, 181); fill-opacity: 1;\"/><path class=\"point\" transform=\"translate(470.3,48.85)\" d=\"M6.5,0A6.5,6.5 0 1,1 0,-6.5A6.5,6.5 0 0,1 6.5,0Z\" style=\"opacity: 1; stroke-width: 0px; fill: rgb(232, 98, 46); fill-opacity: 1;\"/><path class=\"point\" transform=\"translate(485.88,201.04)\" d=\"M6.5,0A6.5,6.5 0 1,1 0,-6.5A6.5,6.5 0 0,1 6.5,0Z\" style=\"opacity: 1; stroke-width: 0px; fill: rgb(11, 72, 145); fill-opacity: 1;\"/></g><g class=\"text\"/></g></g></g><g class=\"overplot\"/><path class=\"xlines-above crisp\" d=\"M0,0\" style=\"fill: none;\"/><path class=\"ylines-above crisp\" d=\"M0,0\" style=\"fill: none;\"/><g class=\"overlines-above\"/><g class=\"xaxislayer-above\"><g class=\"xtick\"><text text-anchor=\"start\" x=\"0\" y=\"346\" transform=\"translate(114.13,0) rotate(90,0,340)\" style=\"font-family: 'Open Sans', verdana, arial, sans-serif; font-size: 12px; fill: rgb(42, 63, 95); fill-opacity: 1; white-space: pre; opacity: 1;\">radius_mean</text></g><g class=\"xtick\"><text text-anchor=\"start\" x=\"0\" y=\"346\" transform=\"translate(129.7,0) rotate(90,0,340)\" style=\"font-family: 'Open Sans', verdana, arial, sans-serif; font-size: 12px; fill: rgb(42, 63, 95); fill-opacity: 1; white-space: pre; opacity: 1;\">texture_mean</text></g><g class=\"xtick\"><text text-anchor=\"start\" x=\"0\" y=\"346\" transform=\"translate(145.28,0) rotate(90,0,340)\" style=\"font-family: 'Open Sans', verdana, arial, sans-serif; font-size: 12px; fill: rgb(42, 63, 95); fill-opacity: 1; white-space: pre; opacity: 1;\">perimeter_mean</text></g><g class=\"xtick\"><text text-anchor=\"start\" x=\"0\" y=\"346\" transform=\"translate(160.86,0) rotate(90,0,340)\" style=\"font-family: 'Open Sans', verdana, arial, sans-serif; font-size: 12px; fill: rgb(42, 63, 95); fill-opacity: 1; white-space: pre; opacity: 1;\">area_mean</text></g><g class=\"xtick\"><text text-anchor=\"start\" x=\"0\" y=\"346\" transform=\"translate(176.44,0) rotate(90,0,340)\" style=\"font-family: 'Open Sans', verdana, arial, sans-serif; font-size: 12px; fill: rgb(42, 63, 95); fill-opacity: 1; white-space: pre; opacity: 1;\">smoothness_mean</text></g><g class=\"xtick\"><text text-anchor=\"start\" x=\"0\" y=\"346\" transform=\"translate(192.01,0) rotate(90,0,340)\" style=\"font-family: 'Open Sans', verdana, arial, sans-serif; font-size: 12px; fill: rgb(42, 63, 95); fill-opacity: 1; white-space: pre; opacity: 1;\">compactness_mean</text></g><g class=\"xtick\"><text text-anchor=\"start\" x=\"0\" y=\"346\" transform=\"translate(207.59,0) rotate(90,0,340)\" style=\"font-family: 'Open Sans', verdana, arial, sans-serif; font-size: 12px; fill: rgb(42, 63, 95); fill-opacity: 1; white-space: pre; opacity: 1;\">concavity_mean</text></g><g class=\"xtick\"><text text-anchor=\"start\" x=\"0\" y=\"346\" transform=\"translate(223.17,0) rotate(90,0,340)\" style=\"font-family: 'Open Sans', verdana, arial, sans-serif; font-size: 12px; fill: rgb(42, 63, 95); fill-opacity: 1; white-space: pre; opacity: 1;\">concave points_mean</text></g><g class=\"xtick\"><text text-anchor=\"start\" x=\"0\" y=\"346\" transform=\"translate(238.75,0) rotate(90,0,340)\" style=\"font-family: 'Open Sans', verdana, arial, sans-serif; font-size: 12px; fill: rgb(42, 63, 95); fill-opacity: 1; white-space: pre; opacity: 1;\">symmetry_mean</text></g><g class=\"xtick\"><text text-anchor=\"start\" x=\"0\" y=\"346\" transform=\"translate(254.32,0) rotate(90,0,340)\" style=\"font-family: 'Open Sans', verdana, arial, sans-serif; font-size: 12px; fill: rgb(42, 63, 95); fill-opacity: 1; white-space: pre; opacity: 1;\">fractal_dimension_mean</text></g><g class=\"xtick\"><text text-anchor=\"start\" x=\"0\" y=\"346\" transform=\"translate(269.9,0) rotate(90,0,340)\" style=\"font-family: 'Open Sans', verdana, arial, sans-serif; font-size: 12px; fill: rgb(42, 63, 95); fill-opacity: 1; white-space: pre; opacity: 1;\">radius_se</text></g><g class=\"xtick\"><text text-anchor=\"start\" x=\"0\" y=\"346\" transform=\"translate(285.48,0) rotate(90,0,340)\" style=\"font-family: 'Open Sans', verdana, arial, sans-serif; font-size: 12px; fill: rgb(42, 63, 95); fill-opacity: 1; white-space: pre; opacity: 1;\">texture_se</text></g><g class=\"xtick\"><text text-anchor=\"start\" x=\"0\" y=\"346\" transform=\"translate(301.06,0) rotate(90,0,340)\" style=\"font-family: 'Open Sans', verdana, arial, sans-serif; font-size: 12px; fill: rgb(42, 63, 95); fill-opacity: 1; white-space: pre; opacity: 1;\">perimeter_se</text></g><g class=\"xtick\"><text text-anchor=\"start\" x=\"0\" y=\"346\" transform=\"translate(316.63,0) rotate(90,0,340)\" style=\"font-family: 'Open Sans', verdana, arial, sans-serif; font-size: 12px; fill: rgb(42, 63, 95); fill-opacity: 1; white-space: pre; opacity: 1;\">area_se</text></g><g class=\"xtick\"><text text-anchor=\"start\" x=\"0\" y=\"346\" transform=\"translate(332.21000000000004,0) rotate(90,0,340)\" style=\"font-family: 'Open Sans', verdana, arial, sans-serif; font-size: 12px; fill: rgb(42, 63, 95); fill-opacity: 1; white-space: pre; opacity: 1;\">smoothness_se</text></g><g class=\"xtick\"><text text-anchor=\"start\" x=\"0\" y=\"346\" transform=\"translate(347.79,0) rotate(90,0,340)\" style=\"font-family: 'Open Sans', verdana, arial, sans-serif; font-size: 12px; fill: rgb(42, 63, 95); fill-opacity: 1; white-space: pre; opacity: 1;\">compactness_se</text></g><g class=\"xtick\"><text text-anchor=\"start\" x=\"0\" y=\"346\" transform=\"translate(363.37,0) rotate(90,0,340)\" style=\"font-family: 'Open Sans', verdana, arial, sans-serif; font-size: 12px; fill: rgb(42, 63, 95); fill-opacity: 1; white-space: pre; opacity: 1;\">concavity_se</text></g><g class=\"xtick\"><text text-anchor=\"start\" x=\"0\" y=\"346\" transform=\"translate(378.94,0) rotate(90,0,340)\" style=\"font-family: 'Open Sans', verdana, arial, sans-serif; font-size: 12px; fill: rgb(42, 63, 95); fill-opacity: 1; white-space: pre; opacity: 1;\">concave points_se</text></g><g class=\"xtick\"><text text-anchor=\"start\" x=\"0\" y=\"346\" transform=\"translate(394.52,0) rotate(90,0,340)\" style=\"font-family: 'Open Sans', verdana, arial, sans-serif; font-size: 12px; fill: rgb(42, 63, 95); fill-opacity: 1; white-space: pre; opacity: 1;\">symmetry_se</text></g><g class=\"xtick\"><text text-anchor=\"start\" x=\"0\" y=\"346\" transform=\"translate(410.1,0) rotate(90,0,340)\" style=\"font-family: 'Open Sans', verdana, arial, sans-serif; font-size: 12px; fill: rgb(42, 63, 95); fill-opacity: 1; white-space: pre; opacity: 1;\">fractal_dimension_se</text></g><g class=\"xtick\"><text text-anchor=\"start\" x=\"0\" y=\"346\" transform=\"translate(425.68,0) rotate(90,0,340)\" style=\"font-family: 'Open Sans', verdana, arial, sans-serif; font-size: 12px; fill: rgb(42, 63, 95); fill-opacity: 1; white-space: pre; opacity: 1;\">radius_worst</text></g><g class=\"xtick\"><text text-anchor=\"start\" x=\"0\" y=\"346\" transform=\"translate(441.25,0) rotate(90,0,340)\" style=\"font-family: 'Open Sans', verdana, arial, sans-serif; font-size: 12px; fill: rgb(42, 63, 95); fill-opacity: 1; white-space: pre; opacity: 1;\">texture_worst</text></g><g class=\"xtick\"><text text-anchor=\"start\" x=\"0\" y=\"346\" transform=\"translate(456.83,0) rotate(90,0,340)\" style=\"font-family: 'Open Sans', verdana, arial, sans-serif; font-size: 12px; fill: rgb(42, 63, 95); fill-opacity: 1; white-space: pre; opacity: 1;\">perimeter_worst</text></g><g class=\"xtick\"><text text-anchor=\"start\" x=\"0\" y=\"346\" transform=\"translate(472.41,0) rotate(90,0,340)\" style=\"font-family: 'Open Sans', verdana, arial, sans-serif; font-size: 12px; fill: rgb(42, 63, 95); fill-opacity: 1; white-space: pre; opacity: 1;\">area_worst</text></g><g class=\"xtick\"><text text-anchor=\"start\" x=\"0\" y=\"346\" transform=\"translate(487.99,0) rotate(90,0,340)\" style=\"font-family: 'Open Sans', verdana, arial, sans-serif; font-size: 12px; fill: rgb(42, 63, 95); fill-opacity: 1; white-space: pre; opacity: 1;\">smoothness_worst</text></g><g class=\"xtick\"><text text-anchor=\"start\" x=\"0\" y=\"346\" transform=\"translate(503.56,0) rotate(90,0,340)\" style=\"font-family: 'Open Sans', verdana, arial, sans-serif; font-size: 12px; fill: rgb(42, 63, 95); fill-opacity: 1; white-space: pre; opacity: 1;\">compactness_worst</text></g><g class=\"xtick\"><text text-anchor=\"start\" x=\"0\" y=\"346\" transform=\"translate(519.14,0) rotate(90,0,340)\" style=\"font-family: 'Open Sans', verdana, arial, sans-serif; font-size: 12px; fill: rgb(42, 63, 95); fill-opacity: 1; white-space: pre; opacity: 1;\">concavity_worst</text></g><g class=\"xtick\"><text text-anchor=\"start\" x=\"0\" y=\"346\" transform=\"translate(534.72,0) rotate(90,0,340)\" style=\"font-family: 'Open Sans', verdana, arial, sans-serif; font-size: 12px; fill: rgb(42, 63, 95); fill-opacity: 1; white-space: pre; opacity: 1;\">concave points_worst</text></g><g class=\"xtick\"><text text-anchor=\"start\" x=\"0\" y=\"346\" transform=\"translate(550.3,0) rotate(90,0,340)\" style=\"font-family: 'Open Sans', verdana, arial, sans-serif; font-size: 12px; fill: rgb(42, 63, 95); fill-opacity: 1; white-space: pre; opacity: 1;\">symmetry_worst</text></g><g class=\"xtick\"><text text-anchor=\"start\" x=\"0\" y=\"346\" transform=\"translate(565.88,0) rotate(90,0,340)\" style=\"font-family: 'Open Sans', verdana, arial, sans-serif; font-size: 12px; fill: rgb(42, 63, 95); fill-opacity: 1; white-space: pre; opacity: 1;\">fractal_dimension_worst</text></g></g><g class=\"yaxislayer-above\"><g class=\"ytick\"><text text-anchor=\"end\" x=\"79\" y=\"4.199999999999999\" transform=\"translate(0,317.81)\" style=\"font-family: 'Open Sans', verdana, arial, sans-serif; font-size: 12px; fill: rgb(42, 63, 95); fill-opacity: 1; white-space: pre; opacity: 1;\">0</text></g><g class=\"ytick\"><text text-anchor=\"end\" x=\"79\" y=\"4.199999999999999\" style=\"font-family: 'Open Sans', verdana, arial, sans-serif; font-size: 12px; fill: rgb(42, 63, 95); fill-opacity: 1; white-space: pre; opacity: 1;\" transform=\"translate(0,245.47)\">0.05</text></g><g class=\"ytick\"><text text-anchor=\"end\" x=\"79\" y=\"4.199999999999999\" style=\"font-family: 'Open Sans', verdana, arial, sans-serif; font-size: 12px; fill: rgb(42, 63, 95); fill-opacity: 1; white-space: pre; opacity: 1;\" transform=\"translate(0,173.13)\">0.1</text></g><g class=\"ytick\"><text text-anchor=\"end\" x=\"79\" y=\"4.199999999999999\" style=\"font-family: 'Open Sans', verdana, arial, sans-serif; font-size: 12px; fill: rgb(42, 63, 95); fill-opacity: 1; white-space: pre; opacity: 1;\" transform=\"translate(0,100.79)\">0.15</text></g></g><g class=\"overaxes-above\"/></g></g><g class=\"polarlayer\"/><g class=\"ternarylayer\"/><g class=\"geolayer\"/><g class=\"funnelarealayer\"/><g class=\"pielayer\"/><g class=\"iciclelayer\"/><g class=\"treemaplayer\"/><g class=\"sunburstlayer\"/><g class=\"glimages\"/><defs id=\"topdefs-4abed4\"><g class=\"clips\"/></defs><g class=\"layer-above\"><g class=\"imagelayer\"/><g class=\"shapelayer\"/></g><g class=\"infolayer\"><g class=\"cb123bd8 colorbar\" transform=\"translate(80,100)\"><rect class=\"cbbg\" x=\"530\" y=\"0\" width=\"77.640625\" height=\"233\" style=\"fill: rgb(0, 0, 0); fill-opacity: 0; stroke: rgb(68, 68, 68); stroke-opacity: 1; stroke-width: 0;\"/><g class=\"cbfills\" transform=\"translate(0,10)\"><rect class=\"cbfill\" x=\"540\" width=\"30\" y=\"0\" height=\"213\" style=\"fill: url('#g4abed4-cb123bd8');\"/></g><g class=\"cblines\" transform=\"translate(0,10)\"/><g class=\"cbaxis crisp\" transform=\"translate(0,-100)\"><g class=\"ycb123bd8tick\"><text text-anchor=\"start\" x=\"572.9\" y=\"4.199999999999999\" transform=\"translate(0,248.4)\" style=\"font-family: 'Open Sans', verdana, arial, sans-serif; font-size: 12px; fill: rgb(42, 63, 95); fill-opacity: 1; white-space: pre; opacity: 1;\">0.05</text></g><g class=\"ycb123bd8tick\"><text text-anchor=\"start\" x=\"572.9\" y=\"4.199999999999999\" style=\"font-family: 'Open Sans', verdana, arial, sans-serif; font-size: 12px; fill: rgb(42, 63, 95); fill-opacity: 1; white-space: pre; opacity: 1;\" transform=\"translate(0,168.75)\">0.1</text></g></g><g class=\"cbtitleunshift\" transform=\"translate(-80,-100)\"><g class=\"cbtitle\"/></g><rect class=\"cboutline\" x=\"540\" y=\"10\" width=\"30\" height=\"213\" style=\"stroke: rgb(68, 68, 68); stroke-opacity: 1; fill: none; stroke-width: 0;\"/></g><g class=\"g-gtitle\"><text class=\"gtitle\" x=\"35\" y=\"50\" text-anchor=\"start\" dy=\"0em\" style=\"font-family: 'Open Sans', verdana, arial, sans-serif; font-size: 17px; fill: rgb(42, 63, 95); opacity: 1; font-weight: normal; white-space: pre;\">Random Forest Feature Importance</text></g><g class=\"g-xtitle\"/><g class=\"g-ytitle\"><text class=\"ytitle\" transform=\"rotate(-90,26.934375000000003,216.5)\" x=\"26.934375000000003\" y=\"216.5\" text-anchor=\"middle\" style=\"font-family: 'Open Sans', verdana, arial, sans-serif; font-size: 14px; fill: rgb(42, 63, 95); opacity: 1; font-weight: normal; white-space: pre;\">Feature Importance</text></g></g></svg>"
      ]
     },
     "metadata": {},
     "output_type": "display_data"
    }
   ],
   "source": [
    "# Scatter plot \n",
    "trace = go.Scatter(\n",
    "    y = clf.feature_importances_,\n",
    "    x = features,\n",
    "    mode='markers',\n",
    "    marker=dict(\n",
    "        sizemode = 'diameter',\n",
    "        sizeref = 1,\n",
    "        size = 13,\n",
    "        #size= rf.feature_importances_,\n",
    "        #color = np.random.randn(500), #set color equal to a variable\n",
    "        color = clf.feature_importances_,\n",
    "        colorscale='Portland',\n",
    "        showscale=True\n",
    "    ),\n",
    "    text = features\n",
    ")\n",
    "data = [trace]\n",
    "\n",
    "layout= go.Layout(\n",
    "    autosize= True,\n",
    "    title= 'Random Forest Feature Importance',\n",
    "    hovermode= 'closest',\n",
    "     xaxis= dict(\n",
    "         ticklen= 5,\n",
    "         showgrid=False,\n",
    "        zeroline=False,\n",
    "        showline=False\n",
    "     ),\n",
    "    yaxis=dict(\n",
    "        title= 'Feature Importance',\n",
    "        showgrid=False,\n",
    "        zeroline=False,\n",
    "        ticklen= 5,\n",
    "        gridwidth= 2\n",
    "    ),\n",
    "    showlegend= False\n",
    ")\n",
    "fig = go.Figure(data=data, layout=layout)\n",
    "py.iplot(fig,filename='scatter2010')"
   ]
  },
  {
   "cell_type": "code",
   "execution_count": 10,
   "id": "f77cfedc",
   "metadata": {},
   "outputs": [
    {
     "data": {
      "image/svg+xml": [
       "<svg class=\"main-svg\" xmlns=\"http://www.w3.org/2000/svg\" xmlns:xlink=\"http://www.w3.org/1999/xlink\" width=\"900\" height=\"2000\" style=\"\" viewBox=\"0 0 900 2000\"><rect x=\"0\" y=\"0\" width=\"900\" height=\"2000\" style=\"fill: rgb(255, 255, 255); fill-opacity: 1;\"/><defs id=\"defs-afa25e\"><g class=\"clips\"><clipPath id=\"clipafa25exyplot\" class=\"plotclip\"><rect width=\"658\" height=\"1820\"/></clipPath><clipPath class=\"axesclip\" id=\"clipafa25ex\"><rect x=\"162\" y=\"0\" width=\"658\" height=\"2000\"/></clipPath><clipPath class=\"axesclip\" id=\"clipafa25ey\"><rect x=\"0\" y=\"100\" width=\"900\" height=\"1820\"/></clipPath><clipPath class=\"axesclip\" id=\"clipafa25exy\"><rect x=\"162\" y=\"100\" width=\"658\" height=\"1820\"/></clipPath></g><g class=\"gradients\"/><g class=\"patterns\"/></defs><g class=\"bglayer\"><rect class=\"bg\" x=\"162\" y=\"100\" width=\"658\" height=\"1820\" style=\"fill: rgb(229, 236, 246); fill-opacity: 1; stroke-width: 0;\"/></g><g class=\"layer-below\"><g class=\"imagelayer\"/><g class=\"shapelayer\"/></g><g class=\"cartesianlayer\"><g class=\"subplot xy\"><g class=\"layer-subplot\"><g class=\"shapelayer\"/><g class=\"imagelayer\"/></g><g class=\"gridlayer\"><g class=\"x\"><path class=\"xgrid crisp\" transform=\"translate(253.34,0)\" d=\"M0,100v1820\" style=\"stroke: rgb(255, 255, 255); stroke-opacity: 1; stroke-width: 1px;\"/><path class=\"xgrid crisp\" transform=\"translate(344.68,0)\" d=\"M0,100v1820\" style=\"stroke: rgb(255, 255, 255); stroke-opacity: 1; stroke-width: 1px;\"/><path class=\"xgrid crisp\" transform=\"translate(436.01,0)\" d=\"M0,100v1820\" style=\"stroke: rgb(255, 255, 255); stroke-opacity: 1; stroke-width: 1px;\"/><path class=\"xgrid crisp\" transform=\"translate(527.35,0)\" d=\"M0,100v1820\" style=\"stroke: rgb(255, 255, 255); stroke-opacity: 1; stroke-width: 1px;\"/><path class=\"xgrid crisp\" transform=\"translate(618.69,0)\" d=\"M0,100v1820\" style=\"stroke: rgb(255, 255, 255); stroke-opacity: 1; stroke-width: 1px;\"/><path class=\"xgrid crisp\" transform=\"translate(710.03,0)\" d=\"M0,100v1820\" style=\"stroke: rgb(255, 255, 255); stroke-opacity: 1; stroke-width: 1px;\"/><path class=\"xgrid crisp\" transform=\"translate(801.36,0)\" d=\"M0,100v1820\" style=\"stroke: rgb(255, 255, 255); stroke-opacity: 1; stroke-width: 1px;\"/></g><g class=\"y\"/></g><g class=\"zerolinelayer\"><path class=\"xzl zl crisp\" transform=\"translate(162,0)\" d=\"M0,100v1820\" style=\"stroke: rgb(255, 255, 255); stroke-opacity: 1; stroke-width: 2px;\"/></g><path class=\"xlines-below\"/><path class=\"ylines-below\"/><g class=\"overlines-below\"/><g class=\"xaxislayer-below\"/><g class=\"yaxislayer-below\"/><g class=\"overaxes-below\"/><g class=\"plot\" transform=\"translate(162,100)\" clip-path=\"url(#clipafa25exyplot)\"><g class=\"barlayer mlayer\"><g class=\"trace bars\" style=\"opacity: 1;\"><g class=\"points\"><g class=\"point\"><path d=\"M0,1813.93V1765.4H14.47V1813.93Z\" style=\"vector-effect: non-scaling-stroke; opacity: 1; stroke-width: 0.5px; fill: rgb(253, 231, 37); fill-opacity: 1; stroke: rgb(229, 236, 246); stroke-opacity: 1;\"/></g><g class=\"point\"><path d=\"M0,1753.27V1704.73H17.65V1753.27Z\" style=\"vector-effect: non-scaling-stroke; opacity: 1; stroke-width: 0.5px; fill: rgb(250, 231, 37); fill-opacity: 1; stroke: rgb(229, 236, 246); stroke-opacity: 1;\"/></g><g class=\"point\"><path d=\"M0,1692.6V1644.07H17.66V1692.6Z\" style=\"vector-effect: non-scaling-stroke; opacity: 1; stroke-width: 0.5px; fill: rgb(250, 231, 37); fill-opacity: 1; stroke: rgb(229, 236, 246); stroke-opacity: 1;\"/></g><g class=\"point\"><path d=\"M0,1631.93V1583.4H19.82V1631.93Z\" style=\"vector-effect: non-scaling-stroke; opacity: 1; stroke-width: 0.5px; fill: rgb(247, 230, 37); fill-opacity: 1; stroke: rgb(229, 236, 246); stroke-opacity: 1;\"/></g><g class=\"point\"><path d=\"M0,1571.27V1522.73H20.02V1571.27Z\" style=\"vector-effect: non-scaling-stroke; opacity: 1; stroke-width: 0.5px; fill: rgb(247, 230, 37); fill-opacity: 1; stroke: rgb(229, 236, 246); stroke-opacity: 1;\"/></g><g class=\"point\"><path d=\"M0,1510.6V1462.07H21V1510.6Z\" style=\"vector-effect: non-scaling-stroke; opacity: 1; stroke-width: 0.5px; fill: rgb(246, 230, 38); fill-opacity: 1; stroke: rgb(229, 236, 246); stroke-opacity: 1;\"/></g><g class=\"point\"><path d=\"M0,1449.93V1401.4H21.5V1449.93Z\" style=\"vector-effect: non-scaling-stroke; opacity: 1; stroke-width: 0.5px; fill: rgb(246, 230, 38); fill-opacity: 1; stroke: rgb(229, 236, 246); stroke-opacity: 1;\"/></g><g class=\"point\"><path d=\"M0,1389.27V1340.73H21.93V1389.27Z\" style=\"vector-effect: non-scaling-stroke; opacity: 1; stroke-width: 0.5px; fill: rgb(245, 230, 38); fill-opacity: 1; stroke: rgb(229, 236, 246); stroke-opacity: 1;\"/></g><g class=\"point\"><path d=\"M0,1328.6V1280.07H23.72V1328.6Z\" style=\"vector-effect: non-scaling-stroke; opacity: 1; stroke-width: 0.5px; fill: rgb(243, 230, 38); fill-opacity: 1; stroke: rgb(229, 236, 246); stroke-opacity: 1;\"/></g><g class=\"point\"><path d=\"M0,1267.93V1219.4H32.93V1267.93Z\" style=\"vector-effect: non-scaling-stroke; opacity: 1; stroke-width: 0.5px; fill: rgb(233, 229, 39); fill-opacity: 1; stroke: rgb(229, 236, 246); stroke-opacity: 1;\"/></g><g class=\"point\"><path d=\"M0,1207.27V1158.73H33.14V1207.27Z\" style=\"vector-effect: non-scaling-stroke; opacity: 1; stroke-width: 0.5px; fill: rgb(233, 229, 39); fill-opacity: 1; stroke: rgb(229, 236, 246); stroke-opacity: 1;\"/></g><g class=\"point\"><path d=\"M0,1146.6V1098.07H52.92V1146.6Z\" style=\"vector-effect: non-scaling-stroke; opacity: 1; stroke-width: 0.5px; fill: rgb(212, 226, 40); fill-opacity: 1; stroke: rgb(229, 236, 246); stroke-opacity: 1;\"/></g><g class=\"point\"><path d=\"M0,1085.93V1037.4H56.82V1085.93Z\" style=\"vector-effect: non-scaling-stroke; opacity: 1; stroke-width: 0.5px; fill: rgb(208, 225, 41); fill-opacity: 1; stroke: rgb(229, 236, 246); stroke-opacity: 1;\"/></g><g class=\"point\"><path d=\"M0,1025.27V976.73H57.76V1025.27Z\" style=\"vector-effect: non-scaling-stroke; opacity: 1; stroke-width: 0.5px; fill: rgb(207, 225, 41); fill-opacity: 1; stroke: rgb(229, 236, 246); stroke-opacity: 1;\"/></g><g class=\"point\"><path d=\"M0,964.6V916.07H63.46V964.6Z\" style=\"vector-effect: non-scaling-stroke; opacity: 1; stroke-width: 0.5px; fill: rgb(201, 225, 41); fill-opacity: 1; stroke: rgb(229, 236, 246); stroke-opacity: 1;\"/></g><g class=\"point\"><path d=\"M0,903.93V855.4H71.82V903.93Z\" style=\"vector-effect: non-scaling-stroke; opacity: 1; stroke-width: 0.5px; fill: rgb(192, 223, 42); fill-opacity: 1; stroke: rgb(229, 236, 246); stroke-opacity: 1;\"/></g><g class=\"point\"><path d=\"M0,843.27V794.73H72.11V843.27Z\" style=\"vector-effect: non-scaling-stroke; opacity: 1; stroke-width: 0.5px; fill: rgb(192, 223, 42); fill-opacity: 1; stroke: rgb(229, 236, 246); stroke-opacity: 1;\"/></g><g class=\"point\"><path d=\"M0,782.6V734.07H72.98V782.6Z\" style=\"vector-effect: non-scaling-stroke; opacity: 1; stroke-width: 0.5px; fill: rgb(191, 223, 42); fill-opacity: 1; stroke: rgb(229, 236, 246); stroke-opacity: 1;\"/></g><g class=\"point\"><path d=\"M0,721.93V673.4H73.55V721.93Z\" style=\"vector-effect: non-scaling-stroke; opacity: 1; stroke-width: 0.5px; fill: rgb(190, 223, 42); fill-opacity: 1; stroke: rgb(229, 236, 246); stroke-opacity: 1;\"/></g><g class=\"point\"><path d=\"M0,661.27V612.73H154.28V661.27Z\" style=\"vector-effect: non-scaling-stroke; opacity: 1; stroke-width: 0.5px; fill: rgb(107, 205, 90); fill-opacity: 1; stroke: rgb(229, 236, 246); stroke-opacity: 1;\"/></g><g class=\"point\"><path d=\"M0,600.6V552.07H195.93V600.6Z\" style=\"vector-effect: non-scaling-stroke; opacity: 1; stroke-width: 0.5px; fill: rgb(72, 190, 110); fill-opacity: 1; stroke: rgb(229, 236, 246); stroke-opacity: 1;\"/></g><g class=\"point\"><path d=\"M0,539.93V491.4H200.73V539.93Z\" style=\"vector-effect: non-scaling-stroke; opacity: 1; stroke-width: 0.5px; fill: rgb(68, 189, 113); fill-opacity: 1; stroke: rgb(229, 236, 246); stroke-opacity: 1;\"/></g><g class=\"point\"><path d=\"M0,479.27V430.73H202.66V479.27Z\" style=\"vector-effect: non-scaling-stroke; opacity: 1; stroke-width: 0.5px; fill: rgb(66, 188, 114); fill-opacity: 1; stroke: rgb(229, 236, 246); stroke-opacity: 1;\"/></g><g class=\"point\"><path d=\"M0,418.6V370.07H215.35V418.6Z\" style=\"vector-effect: non-scaling-stroke; opacity: 1; stroke-width: 0.5px; fill: rgb(55, 184, 120); fill-opacity: 1; stroke: rgb(229, 236, 246); stroke-opacity: 1;\"/></g><g class=\"point\"><path d=\"M0,357.93V309.4H220.72V357.93Z\" style=\"vector-effect: non-scaling-stroke; opacity: 1; stroke-width: 0.5px; fill: rgb(52, 182, 122); fill-opacity: 1; stroke: rgb(229, 236, 246); stroke-opacity: 1;\"/></g><g class=\"point\"><path d=\"M0,297.27V248.73H413.83V297.27Z\" style=\"vector-effect: non-scaling-stroke; opacity: 1; stroke-width: 0.5px; fill: rgb(48, 107, 142); fill-opacity: 1; stroke: rgb(229, 236, 246); stroke-opacity: 1;\"/></g><g class=\"point\"><path d=\"M0,236.6V188.07H473.47V236.6Z\" style=\"vector-effect: non-scaling-stroke; opacity: 1; stroke-width: 0.5px; fill: rgb(59, 80, 138); fill-opacity: 1; stroke: rgb(229, 236, 246); stroke-opacity: 1;\"/></g><g class=\"point\"><path d=\"M0,175.93V127.4H533.32V175.93Z\" style=\"vector-effect: non-scaling-stroke; opacity: 1; stroke-width: 0.5px; fill: rgb(68, 52, 126); fill-opacity: 1; stroke: rgb(229, 236, 246); stroke-opacity: 1;\"/></g><g class=\"point\"><path d=\"M0,115.27V66.73H540.95V115.27Z\" style=\"vector-effect: non-scaling-stroke; opacity: 1; stroke-width: 0.5px; fill: rgb(70, 48, 124); fill-opacity: 1; stroke: rgb(229, 236, 246); stroke-opacity: 1;\"/></g><g class=\"point\"><path d=\"M0,54.6V6.07H625.1V54.6Z\" style=\"vector-effect: non-scaling-stroke; opacity: 1; stroke-width: 0.5px; fill: rgb(68, 1, 84); fill-opacity: 1; stroke: rgb(229, 236, 246); stroke-opacity: 1;\"/></g></g></g></g></g><g class=\"overplot\"/><path class=\"xlines-above crisp\" d=\"M0,0\" style=\"fill: none;\"/><path class=\"ylines-above crisp\" d=\"M0,0\" style=\"fill: none;\"/><g class=\"overlines-above\"/><g class=\"xaxislayer-above\"><g class=\"xtick\"><text text-anchor=\"middle\" x=\"0\" y=\"1933\" transform=\"translate(162,0)\" style=\"font-family: 'Open Sans', verdana, arial, sans-serif; font-size: 12px; fill: rgb(42, 63, 95); fill-opacity: 1; white-space: pre; opacity: 1;\">0</text></g><g class=\"xtick\"><text text-anchor=\"middle\" x=\"0\" y=\"1933\" style=\"font-family: 'Open Sans', verdana, arial, sans-serif; font-size: 12px; fill: rgb(42, 63, 95); fill-opacity: 1; white-space: pre; opacity: 1;\" transform=\"translate(253.34,0)\">0.02</text></g><g class=\"xtick\"><text text-anchor=\"middle\" x=\"0\" y=\"1933\" style=\"font-family: 'Open Sans', verdana, arial, sans-serif; font-size: 12px; fill: rgb(42, 63, 95); fill-opacity: 1; white-space: pre; opacity: 1;\" transform=\"translate(344.68,0)\">0.04</text></g><g class=\"xtick\"><text text-anchor=\"middle\" x=\"0\" y=\"1933\" style=\"font-family: 'Open Sans', verdana, arial, sans-serif; font-size: 12px; fill: rgb(42, 63, 95); fill-opacity: 1; white-space: pre; opacity: 1;\" transform=\"translate(436.01,0)\">0.06</text></g><g class=\"xtick\"><text text-anchor=\"middle\" x=\"0\" y=\"1933\" style=\"font-family: 'Open Sans', verdana, arial, sans-serif; font-size: 12px; fill: rgb(42, 63, 95); fill-opacity: 1; white-space: pre; opacity: 1;\" transform=\"translate(527.35,0)\">0.08</text></g><g class=\"xtick\"><text text-anchor=\"middle\" x=\"0\" y=\"1933\" style=\"font-family: 'Open Sans', verdana, arial, sans-serif; font-size: 12px; fill: rgb(42, 63, 95); fill-opacity: 1; white-space: pre; opacity: 1;\" transform=\"translate(618.69,0)\">0.1</text></g><g class=\"xtick\"><text text-anchor=\"middle\" x=\"0\" y=\"1933\" style=\"font-family: 'Open Sans', verdana, arial, sans-serif; font-size: 12px; fill: rgb(42, 63, 95); fill-opacity: 1; white-space: pre; opacity: 1;\" transform=\"translate(710.03,0)\">0.12</text></g><g class=\"xtick\"><text text-anchor=\"middle\" x=\"0\" y=\"1933\" style=\"font-family: 'Open Sans', verdana, arial, sans-serif; font-size: 12px; fill: rgb(42, 63, 95); fill-opacity: 1; white-space: pre; opacity: 1;\" transform=\"translate(801.36,0)\">0.14</text></g></g><g class=\"yaxislayer-above\"><g class=\"ytick\"><text text-anchor=\"end\" x=\"161\" y=\"4.199999999999999\" transform=\"translate(0,1889.67)\" style=\"font-family: 'Open Sans', verdana, arial, sans-serif; font-size: 12px; fill: rgb(42, 63, 95); fill-opacity: 1; white-space: pre; opacity: 1;\">fractal_dimension_se</text></g><g class=\"ytick\"><text text-anchor=\"end\" x=\"161\" y=\"4.199999999999999\" transform=\"translate(0,1829)\" style=\"font-family: 'Open Sans', verdana, arial, sans-serif; font-size: 12px; fill: rgb(42, 63, 95); fill-opacity: 1; white-space: pre; opacity: 1;\">perimeter_se</text></g><g class=\"ytick\"><text text-anchor=\"end\" x=\"161\" y=\"4.199999999999999\" transform=\"translate(0,1768.33)\" style=\"font-family: 'Open Sans', verdana, arial, sans-serif; font-size: 12px; fill: rgb(42, 63, 95); fill-opacity: 1; white-space: pre; opacity: 1;\">radius_se</text></g><g class=\"ytick\"><text text-anchor=\"end\" x=\"161\" y=\"4.199999999999999\" transform=\"translate(0,1707.67)\" style=\"font-family: 'Open Sans', verdana, arial, sans-serif; font-size: 12px; fill: rgb(42, 63, 95); fill-opacity: 1; white-space: pre; opacity: 1;\">symmetry_se</text></g><g class=\"ytick\"><text text-anchor=\"end\" x=\"161\" y=\"4.199999999999999\" transform=\"translate(0,1647)\" style=\"font-family: 'Open Sans', verdana, arial, sans-serif; font-size: 12px; fill: rgb(42, 63, 95); fill-opacity: 1; white-space: pre; opacity: 1;\">concavity_se</text></g><g class=\"ytick\"><text text-anchor=\"end\" x=\"161\" y=\"4.199999999999999\" transform=\"translate(0,1586.33)\" style=\"font-family: 'Open Sans', verdana, arial, sans-serif; font-size: 12px; fill: rgb(42, 63, 95); fill-opacity: 1; white-space: pre; opacity: 1;\">radius_worst</text></g><g class=\"ytick\"><text text-anchor=\"end\" x=\"161\" y=\"4.199999999999999\" transform=\"translate(0,1525.67)\" style=\"font-family: 'Open Sans', verdana, arial, sans-serif; font-size: 12px; fill: rgb(42, 63, 95); fill-opacity: 1; white-space: pre; opacity: 1;\">compactness_se</text></g><g class=\"ytick\"><text text-anchor=\"end\" x=\"161\" y=\"4.199999999999999\" transform=\"translate(0,1465)\" style=\"font-family: 'Open Sans', verdana, arial, sans-serif; font-size: 12px; fill: rgb(42, 63, 95); fill-opacity: 1; white-space: pre; opacity: 1;\">fractal_dimension_mean</text></g><g class=\"ytick\"><text text-anchor=\"end\" x=\"161\" y=\"4.199999999999999\" transform=\"translate(0,1404.33)\" style=\"font-family: 'Open Sans', verdana, arial, sans-serif; font-size: 12px; fill: rgb(42, 63, 95); fill-opacity: 1; white-space: pre; opacity: 1;\">radius_mean</text></g><g class=\"ytick\"><text text-anchor=\"end\" x=\"161\" y=\"4.199999999999999\" transform=\"translate(0,1343.67)\" style=\"font-family: 'Open Sans', verdana, arial, sans-serif; font-size: 12px; fill: rgb(42, 63, 95); fill-opacity: 1; white-space: pre; opacity: 1;\">concave points_se</text></g><g class=\"ytick\"><text text-anchor=\"end\" x=\"161\" y=\"4.199999999999999\" transform=\"translate(0,1283)\" style=\"font-family: 'Open Sans', verdana, arial, sans-serif; font-size: 12px; fill: rgb(42, 63, 95); fill-opacity: 1; white-space: pre; opacity: 1;\">compactness_mean</text></g><g class=\"ytick\"><text text-anchor=\"end\" x=\"161\" y=\"4.199999999999999\" transform=\"translate(0,1222.33)\" style=\"font-family: 'Open Sans', verdana, arial, sans-serif; font-size: 12px; fill: rgb(42, 63, 95); fill-opacity: 1; white-space: pre; opacity: 1;\">fractal_dimension_worst</text></g><g class=\"ytick\"><text text-anchor=\"end\" x=\"161\" y=\"4.199999999999999\" transform=\"translate(0,1161.67)\" style=\"font-family: 'Open Sans', verdana, arial, sans-serif; font-size: 12px; fill: rgb(42, 63, 95); fill-opacity: 1; white-space: pre; opacity: 1;\">concavity_mean</text></g><g class=\"ytick\"><text text-anchor=\"end\" x=\"161\" y=\"4.199999999999999\" transform=\"translate(0,1101)\" style=\"font-family: 'Open Sans', verdana, arial, sans-serif; font-size: 12px; fill: rgb(42, 63, 95); fill-opacity: 1; white-space: pre; opacity: 1;\">perimeter_mean</text></g><g class=\"ytick\"><text text-anchor=\"end\" x=\"161\" y=\"4.199999999999999\" transform=\"translate(0,1040.33)\" style=\"font-family: 'Open Sans', verdana, arial, sans-serif; font-size: 12px; fill: rgb(42, 63, 95); fill-opacity: 1; white-space: pre; opacity: 1;\">area_se</text></g><g class=\"ytick\"><text text-anchor=\"end\" x=\"161\" y=\"4.199999999999999\" transform=\"translate(0,979.67)\" style=\"font-family: 'Open Sans', verdana, arial, sans-serif; font-size: 12px; fill: rgb(42, 63, 95); fill-opacity: 1; white-space: pre; opacity: 1;\">compactness_worst</text></g><g class=\"ytick\"><text text-anchor=\"end\" x=\"161\" y=\"4.199999999999999\" transform=\"translate(0,919)\" style=\"font-family: 'Open Sans', verdana, arial, sans-serif; font-size: 12px; fill: rgb(42, 63, 95); fill-opacity: 1; white-space: pre; opacity: 1;\">texture_se</text></g><g class=\"ytick\"><text text-anchor=\"end\" x=\"161\" y=\"4.199999999999999\" transform=\"translate(0,858.33)\" style=\"font-family: 'Open Sans', verdana, arial, sans-serif; font-size: 12px; fill: rgb(42, 63, 95); fill-opacity: 1; white-space: pre; opacity: 1;\">perimeter_worst</text></g><g class=\"ytick\"><text text-anchor=\"end\" x=\"161\" y=\"4.199999999999999\" transform=\"translate(0,797.67)\" style=\"font-family: 'Open Sans', verdana, arial, sans-serif; font-size: 12px; fill: rgb(42, 63, 95); fill-opacity: 1; white-space: pre; opacity: 1;\">concavity_worst</text></g><g class=\"ytick\"><text text-anchor=\"end\" x=\"161\" y=\"4.199999999999999\" transform=\"translate(0,737)\" style=\"font-family: 'Open Sans', verdana, arial, sans-serif; font-size: 12px; fill: rgb(42, 63, 95); fill-opacity: 1; white-space: pre; opacity: 1;\">concave points_worst</text></g><g class=\"ytick\"><text text-anchor=\"end\" x=\"161\" y=\"4.199999999999999\" transform=\"translate(0,676.33)\" style=\"font-family: 'Open Sans', verdana, arial, sans-serif; font-size: 12px; fill: rgb(42, 63, 95); fill-opacity: 1; white-space: pre; opacity: 1;\">smoothness_se</text></g><g class=\"ytick\"><text text-anchor=\"end\" x=\"161\" y=\"4.199999999999999\" transform=\"translate(0,615.67)\" style=\"font-family: 'Open Sans', verdana, arial, sans-serif; font-size: 12px; fill: rgb(42, 63, 95); fill-opacity: 1; white-space: pre; opacity: 1;\">concave points_mean</text></g><g class=\"ytick\"><text text-anchor=\"end\" x=\"161\" y=\"4.199999999999999\" transform=\"translate(0,555)\" style=\"font-family: 'Open Sans', verdana, arial, sans-serif; font-size: 12px; fill: rgb(42, 63, 95); fill-opacity: 1; white-space: pre; opacity: 1;\">area_mean</text></g><g class=\"ytick\"><text text-anchor=\"end\" x=\"161\" y=\"4.199999999999999\" transform=\"translate(0,494.33)\" style=\"font-family: 'Open Sans', verdana, arial, sans-serif; font-size: 12px; fill: rgb(42, 63, 95); fill-opacity: 1; white-space: pre; opacity: 1;\">texture_mean</text></g><g class=\"ytick\"><text text-anchor=\"end\" x=\"161\" y=\"4.199999999999999\" transform=\"translate(0,433.67)\" style=\"font-family: 'Open Sans', verdana, arial, sans-serif; font-size: 12px; fill: rgb(42, 63, 95); fill-opacity: 1; white-space: pre; opacity: 1;\">smoothness_mean</text></g><g class=\"ytick\"><text text-anchor=\"end\" x=\"161\" y=\"4.199999999999999\" transform=\"translate(0,373)\" style=\"font-family: 'Open Sans', verdana, arial, sans-serif; font-size: 12px; fill: rgb(42, 63, 95); fill-opacity: 1; white-space: pre; opacity: 1;\">symmetry_mean</text></g><g class=\"ytick\"><text text-anchor=\"end\" x=\"161\" y=\"4.199999999999999\" transform=\"translate(0,312.33000000000004)\" style=\"font-family: 'Open Sans', verdana, arial, sans-serif; font-size: 12px; fill: rgb(42, 63, 95); fill-opacity: 1; white-space: pre; opacity: 1;\">smoothness_worst</text></g><g class=\"ytick\"><text text-anchor=\"end\" x=\"161\" y=\"4.199999999999999\" transform=\"translate(0,251.67)\" style=\"font-family: 'Open Sans', verdana, arial, sans-serif; font-size: 12px; fill: rgb(42, 63, 95); fill-opacity: 1; white-space: pre; opacity: 1;\">symmetry_worst</text></g><g class=\"ytick\"><text text-anchor=\"end\" x=\"161\" y=\"4.199999999999999\" transform=\"translate(0,191)\" style=\"font-family: 'Open Sans', verdana, arial, sans-serif; font-size: 12px; fill: rgb(42, 63, 95); fill-opacity: 1; white-space: pre; opacity: 1;\">texture_worst</text></g><g class=\"ytick\"><text text-anchor=\"end\" x=\"161\" y=\"4.199999999999999\" transform=\"translate(0,130.32999999999998)\" style=\"font-family: 'Open Sans', verdana, arial, sans-serif; font-size: 12px; fill: rgb(42, 63, 95); fill-opacity: 1; white-space: pre; opacity: 1;\">area_worst</text></g></g><g class=\"overaxes-above\"/></g></g><g class=\"polarlayer\"/><g class=\"ternarylayer\"/><g class=\"geolayer\"/><g class=\"funnelarealayer\"/><g class=\"pielayer\"/><g class=\"iciclelayer\"/><g class=\"treemaplayer\"/><g class=\"sunburstlayer\"/><g class=\"glimages\"/><defs id=\"topdefs-afa25e\"><g class=\"clips\"/></defs><g class=\"layer-above\"><g class=\"imagelayer\"/><g class=\"shapelayer\"/></g><g class=\"infolayer\"><g class=\"g-gtitle\"><text class=\"gtitle\" x=\"45\" y=\"50\" text-anchor=\"start\" dy=\"0em\" style=\"font-family: 'Open Sans', verdana, arial, sans-serif; font-size: 17px; fill: rgb(42, 63, 95); opacity: 1; font-weight: normal; white-space: pre;\">Barplot of Feature importances</text></g><g class=\"g-xtitle\"/><g class=\"g-ytitle\"/></g></svg>"
      ]
     },
     "metadata": {},
     "output_type": "display_data"
    }
   ],
   "source": [
    "x, y = (list(x) for x in zip(*sorted(zip(clf.feature_importances_, features), \n",
    "                                                            reverse = False)))\n",
    "trace2 = go.Bar(\n",
    "    x=x ,\n",
    "    y=y,\n",
    "    marker=dict(\n",
    "        color=x,\n",
    "        colorscale = 'Viridis',\n",
    "        reversescale = True\n",
    "    ),\n",
    "    name='Random Forest Feature importance',\n",
    "    orientation='h',\n",
    ")\n",
    "\n",
    "layout = dict(\n",
    "    title='Barplot of Feature importances',\n",
    "     width = 900, height = 2000,\n",
    "    yaxis=dict(\n",
    "        showgrid=False,\n",
    "        showline=False,\n",
    "        showticklabels=True,\n",
    "#         domain=[0, 0.85],\n",
    "    ))\n",
    "\n",
    "fig1 = go.Figure(data=[trace2])\n",
    "fig1['layout'].update(layout)\n",
    "py.iplot(fig1, filename='plots')"
   ]
  }
 ],
 "metadata": {
  "kernelspec": {
   "display_name": "Python 3",
   "language": "python",
   "name": "python3"
  },
  "language_info": {
   "codemirror_mode": {
    "name": "ipython",
    "version": 3
   },
   "file_extension": ".py",
   "mimetype": "text/x-python",
   "name": "python",
   "nbconvert_exporter": "python",
   "pygments_lexer": "ipython3",
   "version": "3.8.8"
  }
 },
 "nbformat": 4,
 "nbformat_minor": 5
}
